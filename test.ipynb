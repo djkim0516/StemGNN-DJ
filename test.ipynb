{
 "cells": [
  {
   "cell_type": "code",
   "execution_count": 2,
   "metadata": {},
   "outputs": [],
   "source": [
    "import torch"
   ]
  },
  {
   "cell_type": "code",
   "execution_count": 25,
   "metadata": {},
   "outputs": [],
   "source": [
    "tensor1 = torch.randn(10)\n",
    "tensor2 = torch.randn(4, 10, 5)"
   ]
  },
  {
   "cell_type": "code",
   "execution_count": 26,
   "metadata": {},
   "outputs": [
    {
     "data": {
      "text/plain": [
       "(tensor([ 1.5347,  1.0318,  0.9933, -0.1779,  0.0327,  0.5924, -1.2005, -0.9356,\n",
       "         -1.5719, -0.2233]),\n",
       " tensor([[[ 1.9207, -0.5670,  1.1930,  0.9599, -1.0772],\n",
       "          [-0.1961, -2.3927,  0.6677,  0.0272,  1.0431],\n",
       "          [ 0.2299, -0.4691,  0.9202, -0.7146, -1.0175],\n",
       "          [-0.1068, -0.1886, -0.5848,  1.1747, -1.5995],\n",
       "          [-2.1392,  0.2059, -0.9835, -1.0974, -0.2231],\n",
       "          [ 0.0594, -0.6781, -1.2977, -1.0593, -1.7343],\n",
       "          [-1.4120,  2.3300,  0.8121,  0.0930,  0.0054],\n",
       "          [-1.6065,  0.3986, -0.8865,  0.4295, -0.4531],\n",
       "          [-0.0948, -0.4256, -1.7510, -0.1005, -0.3351],\n",
       "          [ 1.4580, -2.2599, -1.5644,  1.3825,  0.8565]],\n",
       " \n",
       "         [[ 0.3911, -1.5708,  0.2588,  0.7372, -0.7279],\n",
       "          [-0.4131, -0.5187,  0.6191, -0.1507,  0.1779],\n",
       "          [ 0.7330,  1.1186,  0.7727, -0.2538, -0.5900],\n",
       "          [-0.2981,  2.3551,  3.2048,  0.3590,  0.0393],\n",
       "          [-0.9083,  0.4900,  1.0398, -1.2324, -0.0944],\n",
       "          [ 1.8488,  2.9036,  0.1366, -0.2188, -2.6321],\n",
       "          [ 2.9776, -1.6952, -0.2171,  0.4358,  1.3159],\n",
       "          [ 2.1111, -0.5542,  0.2870, -0.3476,  1.1797],\n",
       "          [-0.0434, -0.2101,  0.4412,  0.3258,  0.0676],\n",
       "          [-0.7080,  1.7945, -2.6898,  0.3600,  0.2037]],\n",
       " \n",
       "         [[-0.9072,  1.4909, -1.3640,  1.6080,  0.7926],\n",
       "          [ 1.5677, -0.8147, -0.0673,  0.8498,  1.9254],\n",
       "          [-0.9188,  0.8378, -0.0467,  0.9481, -0.4398],\n",
       "          [ 1.0688,  1.8411,  0.3644,  0.8277,  0.7983],\n",
       "          [-0.6292, -0.1320,  1.4866,  0.1778,  2.0820],\n",
       "          [-0.3890, -1.4121,  1.6910,  1.1018, -0.4517],\n",
       "          [-1.1770, -0.1819, -0.6225, -1.4309,  0.1795],\n",
       "          [-0.9044, -0.9723, -1.5416, -1.2028,  0.4898],\n",
       "          [-1.1149, -0.7051, -0.5806, -2.4594, -0.1439],\n",
       "          [-0.5004,  0.0644,  0.9668, -0.5541,  0.9260]],\n",
       " \n",
       "         [[ 0.8452, -0.4473,  1.4908,  0.5187,  0.6609],\n",
       "          [-0.8056, -1.1116,  1.2641, -0.3818, -0.4192],\n",
       "          [-0.3794, -0.6036,  0.8416, -0.6802, -1.0216],\n",
       "          [-0.1440, -1.6564,  0.2875, -0.2660, -0.8512],\n",
       "          [ 0.4587, -0.2690,  0.3500, -0.7595, -0.0326],\n",
       "          [-0.2521, -0.9074, -0.0535, -0.1549,  1.3307],\n",
       "          [ 0.0783, -0.6946,  1.5501, -0.6181,  0.5322],\n",
       "          [-1.0475, -0.8456,  0.6748,  2.0118,  1.0661],\n",
       "          [-1.3788,  0.0944, -0.2554,  1.6428, -1.2450],\n",
       "          [ 0.0605, -0.3742, -0.6149, -0.1511, -0.7403]]]))"
      ]
     },
     "execution_count": 26,
     "metadata": {},
     "output_type": "execute_result"
    }
   ],
   "source": [
    "tensor1, tensor2"
   ]
  },
  {
   "cell_type": "code",
   "execution_count": 27,
   "metadata": {},
   "outputs": [
    {
     "data": {
      "text/plain": [
       "torch.Size([4, 5])"
      ]
     },
     "execution_count": 27,
     "metadata": {},
     "output_type": "execute_result"
    }
   ],
   "source": [
    "torch.matmul(tensor1, tensor2).size()"
   ]
  },
  {
   "cell_type": "code",
   "execution_count": 74,
   "metadata": {},
   "outputs": [],
   "source": [
    "mul_L = torch.empty([4, 1, 140, 140])      #mul_L : [4, 1, 140, 140]\n",
    "x = torch.empty([32, 1, 1, 140, 12])              #x : [32, 1, 1, 140, 12]"
   ]
  },
  {
   "cell_type": "code",
   "execution_count": 62,
   "metadata": {},
   "outputs": [],
   "source": [
    "mul_L = torch.empty([140, 140])      #mul_L : [4, 1, 140, 140]\n",
    "x = torch.empty([140, 12])              #x : [32, 1, 1, 140, 12]"
   ]
  },
  {
   "cell_type": "code",
   "execution_count": 75,
   "metadata": {},
   "outputs": [
    {
     "data": {
      "text/plain": [
       "torch.Size([32, 4, 1, 140, 112])"
      ]
     },
     "execution_count": 75,
     "metadata": {},
     "output_type": "execute_result"
    }
   ],
   "source": [
    "gfted = torch.matmul(mul_L, x)\n",
    "gfted.size()"
   ]
  },
  {
   "cell_type": "code",
   "execution_count": 87,
   "metadata": {},
   "outputs": [],
   "source": [
    "a1 = torch.tensor([1,2,3])\n",
    "a2 = torch.tensor([1,2,3])"
   ]
  },
  {
   "cell_type": "code",
   "execution_count": 90,
   "metadata": {},
   "outputs": [
    {
     "data": {
      "text/plain": [
       "tensor(14)"
      ]
     },
     "execution_count": 90,
     "metadata": {},
     "output_type": "execute_result"
    }
   ],
   "source": [
    "torch.matm(a1, a2)"
   ]
  },
  {
   "cell_type": "code",
   "execution_count": 59,
   "metadata": {},
   "outputs": [
    {
     "data": {
      "text/plain": [
       "torch.Size([32, 4, 1, 140, 60])"
      ]
     },
     "execution_count": 59,
     "metadata": {},
     "output_type": "execute_result"
    }
   ],
   "source": [
    "x=torch.empty(32, 4, 1, 140, 60)\n",
    "y=torch.empty(4, 1, 60, 60)\n",
    "# y=torch.empty(1, 4, 1, 60, 60)\n",
    "# x=torch.empty(32, 4, 1, 140, 60 ,1)\n",
    "# torch.Size([5, 3, 4, 1])\n",
    "torch.matmul(x, y).shape"
   ]
  },
  {
   "cell_type": "code",
   "execution_count": 40,
   "metadata": {},
   "outputs": [
    {
     "ename": "RuntimeError",
     "evalue": "Expected batch2_sizes[0] == bs && batch2_sizes[1] == contraction_size to be true, but got false.  (Could this error message be improved?  If so, please report an enhancement request to PyTorch.)",
     "output_type": "error",
     "traceback": [
      "\u001b[1;31m---------------------------------------------------------------------------\u001b[0m",
      "\u001b[1;31mRuntimeError\u001b[0m                              Traceback (most recent call last)",
      "\u001b[1;32mc:\\github\\StemGNN-DJ\\test.ipynb 셀 11\u001b[0m in \u001b[0;36m<cell line: 1>\u001b[1;34m()\u001b[0m\n\u001b[1;32m----> <a href='vscode-notebook-cell:/c%3A/github/StemGNN-DJ/test.ipynb#X13sZmlsZQ%3D%3D?line=0'>1</a>\u001b[0m torch\u001b[39m.\u001b[39;49mmatmul(x, y)\u001b[39m.\u001b[39mshape\n",
      "\u001b[1;31mRuntimeError\u001b[0m: Expected batch2_sizes[0] == bs && batch2_sizes[1] == contraction_size to be true, but got false.  (Could this error message be improved?  If so, please report an enhancement request to PyTorch.)"
     ]
    }
   ],
   "source": [
    "torch.matmul(x, y).shape"
   ]
  },
  {
   "cell_type": "code",
   "execution_count": 38,
   "metadata": {},
   "outputs": [
    {
     "data": {
      "text/plain": [
       "torch.Size([32, 4, 140, 60, 1])"
      ]
     },
     "execution_count": 38,
     "metadata": {},
     "output_type": "execute_result"
    }
   ],
   "source": [
    "temp = torch.sum(torch.matmul(y, x), dim=1)\n",
    "temp.shape\n",
    "# torch.matmul(y, x).shape"
   ]
  },
  {
   "cell_type": "code",
   "execution_count": 22,
   "metadata": {},
   "outputs": [
    {
     "data": {
      "text/plain": [
       "torch.Size([1075200, 1])"
      ]
     },
     "execution_count": 22,
     "metadata": {},
     "output_type": "execute_result"
    }
   ],
   "source": [
    "temp.reshape(-1,1).shape"
   ]
  },
  {
   "cell_type": "code",
   "execution_count": 24,
   "metadata": {},
   "outputs": [
    {
     "ename": "RuntimeError",
     "evalue": "mat1 and mat2 shapes cannot be multiplied (1075200x1 and 60x60)",
     "output_type": "error",
     "traceback": [
      "\u001b[1;31m---------------------------------------------------------------------------\u001b[0m",
      "\u001b[1;31mRuntimeError\u001b[0m                              Traceback (most recent call last)",
      "\u001b[1;32mc:\\github\\StemGNN-DJ\\test.ipynb 셀 14\u001b[0m in \u001b[0;36m<cell line: 1>\u001b[1;34m()\u001b[0m\n\u001b[1;32m----> <a href='vscode-notebook-cell:/c%3A/github/StemGNN-DJ/test.ipynb#X15sZmlsZQ%3D%3D?line=0'>1</a>\u001b[0m torch\u001b[39m.\u001b[39;49mmatmul(temp, torch\u001b[39m.\u001b[39;49mempty(\u001b[39m60\u001b[39;49m, \u001b[39m60\u001b[39;49m))\n",
      "\u001b[1;31mRuntimeError\u001b[0m: mat1 and mat2 shapes cannot be multiplied (1075200x1 and 60x60)"
     ]
    }
   ],
   "source": [
    "torch.matmul(temp, torch.empty(60, 60))"
   ]
  },
  {
   "cell_type": "code",
   "execution_count": 27,
   "metadata": {},
   "outputs": [
    {
     "data": {
      "text/plain": [
       "torch.Size([32, 4, 140, 12])"
      ]
     },
     "execution_count": 27,
     "metadata": {},
     "output_type": "execute_result"
    }
   ],
   "source": [
    "torch.empty([32, 4, 140, 12]).squeeze(1).shape"
   ]
  }
 ],
 "metadata": {
  "kernelspec": {
   "display_name": "Python 3.8.11 ('pytorch')",
   "language": "python",
   "name": "python3"
  },
  "language_info": {
   "codemirror_mode": {
    "name": "ipython",
    "version": 3
   },
   "file_extension": ".py",
   "mimetype": "text/x-python",
   "name": "python",
   "nbconvert_exporter": "python",
   "pygments_lexer": "ipython3",
   "version": "3.8.11"
  },
  "orig_nbformat": 4,
  "vscode": {
   "interpreter": {
    "hash": "3349d69ce54d84b584cacd4fad92463b86b9f80d2a086541fc37b55321b99fb3"
   }
  }
 },
 "nbformat": 4,
 "nbformat_minor": 2
}
